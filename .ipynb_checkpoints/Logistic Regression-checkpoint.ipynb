{
 "cells": [
  {
   "cell_type": "markdown",
   "metadata": {},
   "source": [
    "### Import Necessary Modules"
   ]
  },
  {
   "cell_type": "code",
   "execution_count": 76,
   "metadata": {},
   "outputs": [],
   "source": [
    "import numpy as np\n",
    "import matplotlib.pyplot as plt"
   ]
  },
  {
   "cell_type": "markdown",
   "metadata": {},
   "source": [
    "Define a function to draw a line given 2 coordinates."
   ]
  },
  {
   "cell_type": "code",
   "execution_count": 77,
   "metadata": {},
   "outputs": [],
   "source": [
    "def draw(x1, x2):\n",
    "    line = plt.plot(x1,x2)"
   ]
  },
  {
   "cell_type": "markdown",
   "metadata": {},
   "source": [
    "Define the sigmoid function that takes the score as the input."
   ]
  },
  {
   "cell_type": "code",
   "execution_count": 78,
   "metadata": {},
   "outputs": [],
   "source": [
    "def sigmoid(score):\n",
    "    return 1/(1 + np.exp(-score))"
   ]
  },
  {
   "cell_type": "markdown",
   "metadata": {},
   "source": [
    "### Cross Entropy:\n",
    "\n",
    "The function can be defined as:\n",
    "<center> -(sum of(y*ln(p) + (1-y)*ln(1-p))) </center>\n",
    "\n",
    "\n",
    "The error of the model is just the cross entropy divided by the number of points "
   ]
  },
  {
   "cell_type": "code",
   "execution_count": 79,
   "metadata": {},
   "outputs": [],
   "source": [
    "def calculate_error(line_parameters, points, y):\n",
    "    m = points.shape[0]\n",
    "    p = sigmoid(points*line_parameters)\n",
    "    cross_entropy = -(1/m)*(np.log(p).T * y + np.log(1-p).T*(1-y))\n",
    "    return cross_entropy"
   ]
  },
  {
   "cell_type": "markdown",
   "metadata": {},
   "source": [
    "### Gradient Descent Function\n",
    "\n",
    "<center> E = ( ( pts * (p-y) ) * alpha ) / m </center>\n",
    "\n",
    "where alpha is the learning rate.\n",
    "\n",
    "### Specifying the coordinates of the line (x1 and x2)\n",
    "\n",
    "Horizontally, we want the points to go from the one furthest from the left to the one furthest from the right.\n",
    "\n",
    "Obviously, the furthest point from the right will be the bottom region and the furthest point from the right will be from the top region."
   ]
  },
  {
   "cell_type": "code",
   "execution_count": 80,
   "metadata": {},
   "outputs": [],
   "source": [
    "def gradient_descent(line_parameters, points, y, alpha):\n",
    "    m = points.shape[0]\n",
    "    for i in range(1000):\n",
    "        p = sigmoid(points*line_parameters)\n",
    "        gradient = (points.T * (p-y))*(alpha/m)\n",
    "        line_parameters = line_parameters - gradient\n",
    "        \n",
    "        w1 = line_parameters.item(0)\n",
    "        w2 = line_parameters.item(1)\n",
    "        b = line_parameters.item(2)\n",
    "        \n",
    "        x1 = np.array([points[:,0].min(), points[:,0].max()])\n",
    "        x2 = -b / w2 + x1 * (- w1 / w2) #from the eq (0 = w1x1 + w2x2 + b)\n",
    "    draw(x1,x2)"
   ]
  },
  {
   "cell_type": "markdown",
   "metadata": {},
   "source": [
    "### Initiate random points\n",
    "\n",
    "Initiate random points using random.normal(mean, std deviation, number of points). \n",
    "\n",
    "The first and second row of the array is x1 and x2 values respectively. \n",
    "\n",
    "Then, the array is transposed such that column 1 = x1 and column 2 = x2. \n",
    "\n",
    "The third row will be the bias of the regression, which would just be 1 (Explained on video 75. Perceptron starting from 2:40"
   ]
  },
  {
   "cell_type": "code",
   "execution_count": 81,
   "metadata": {},
   "outputs": [],
   "source": [
    "n_pts = 100\n",
    "\n",
    "# random.seed is so that every time we run this line, the random variable will not change.\n",
    "np.random.seed(0)\n",
    "\n",
    "bias = np.ones(n_pts)\n",
    "\n",
    "top_region = np.array([np.random.normal(10, 2, n_pts), np.random.normal(12, 2, n_pts), bias]).T\n",
    "bottom_region = np.array([np.random.normal(5, 2, n_pts), np.random.normal(6, 2, n_pts), bias]).T\n",
    "\n",
    "# stack all the points into a single array\n",
    "all_points = np.vstack((top_region, bottom_region))"
   ]
  },
  {
   "cell_type": "markdown",
   "metadata": {},
   "source": [
    "Label the random point as y = 0 (top region) and y = 1 (bottom region) don't forget to reshape it so that it corresponds to the all_points shape."
   ]
  },
  {
   "cell_type": "code",
   "execution_count": 82,
   "metadata": {},
   "outputs": [],
   "source": [
    "y = np.array([np.zeros(n_pts), np.ones(n_pts)]).reshape(n_pts*2, 1)"
   ]
  },
  {
   "cell_type": "markdown",
   "metadata": {},
   "source": [
    "### Initialize line parameters.\n",
    "\n",
    "The line parameters are simply the weights and bias of the regression line. Remember the line is in the form:\n",
    "<center>\n",
    "w1*x1 + w2*x2 + b\n",
    "</center>"
   ]
  },
  {
   "cell_type": "code",
   "execution_count": 83,
   "metadata": {},
   "outputs": [],
   "source": [
    "line_parameters = np.matrix([np.zeros(3)]).T"
   ]
  },
  {
   "cell_type": "markdown",
   "metadata": {},
   "source": [
    "Multiply the linear combination of the line parameters and all the random points in order to get a \"score\" of each points. \n",
    "The random points should be in the shape of n_pts x 3 matrix and the line parameters will be a 3x1 matrix, therefore when multiplied, it will correspond to the equation:\n",
    "<center>w1*x1 + w2*x2 + (1)b</center>"
   ]
  },
  {
   "cell_type": "code",
   "execution_count": 84,
   "metadata": {},
   "outputs": [],
   "source": [
    "linear_combination = all_points*line_parameters"
   ]
  },
  {
   "cell_type": "markdown",
   "metadata": {},
   "source": [
    "Ouptut the probablities of each line using the sigmoid function. Note that if a line's probability is > 0.5, that means it belongs to the top region and < 0.5 belong to the bottom region."
   ]
  },
  {
   "cell_type": "code",
   "execution_count": 85,
   "metadata": {},
   "outputs": [],
   "source": [
    "probabilities = sigmoid(linear_combination)"
   ]
  },
  {
   "cell_type": "markdown",
   "metadata": {},
   "source": [
    "### Plotting the graphs"
   ]
  },
  {
   "cell_type": "code",
   "execution_count": 86,
   "metadata": {},
   "outputs": [
    {
     "data": {
      "image/png": "[encoded data removed]",
      "text/plain": [
       "<Figure size 576x576 with 1 Axes>"
      ]
     },
     "metadata": {
      "needs_background": "light"
     },
     "output_type": "display_data"
    }
   ],
   "source": [
    "# Plot the scattered data using the scatter\n",
    "_, ax = plt.subplots(figsize = (8,8))\n",
    "ax.scatter(top_region[:,0], top_region[:,1], color = 'r')\n",
    "ax.scatter(bottom_region[:,0], bottom_region[:,1], color = 'b')\n",
    "gradient_descent(line_parameters, all_points, y, 0.06)\n",
    "plt.legend([\"Regression\", \"Top Region Points\", \"Bottom Region Points\"])\n",
    "plt.show()"
   ]
  },
  {
   "cell_type": "markdown",
   "metadata": {},
   "source": [
    "### Print the error results:"
   ]
  },
  {
   "cell_type": "code",
   "execution_count": 87,
   "metadata": {},
   "outputs": [
    {
     "name": "stdout",
     "output_type": "stream",
     "text": [
      "[[0.69314718]]\n"
     ]
    }
   ],
   "source": [
    "print(calculate_error(line_parameters, all_points, y))"
   ]
  },
  {
   "cell_type": "code",
   "execution_count": null,
   "metadata": {},
   "outputs": [],
   "source": []
  }
 ],
 "metadata": {
  "kernelspec": {
   "display_name": "Python 3",
   "language": "python",
   "name": "python3"
  },
  "language_info": {
   "codemirror_mode": {
    "name": "ipython",
    "version": 3
   },
   "file_extension": ".py",
   "mimetype": "text/x-python",
   "name": "python",
   "nbconvert_exporter": "python",
   "pygments_lexer": "ipython3",
   "version": "3.7.6"
  }
 },
 "nbformat": 4,
 "nbformat_minor": 4
}
