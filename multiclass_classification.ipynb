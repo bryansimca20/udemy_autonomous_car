{
 "cells": [
  {
   "cell_type": "code",
   "execution_count": 52,
   "metadata": {},
   "outputs": [],
   "source": [
    "import numpy as np\n",
    "import matplotlib.pyplot as plt\n",
    "from sklearn import datasets\n",
    "import keras\n",
    "from keras.models import Sequential\n",
    "from keras.layers import Dense\n",
    "from keras.optimizers import Adam\n",
    "from keras.utils.np_utils import to_categorical"
   ]
  },
  {
   "cell_type": "code",
   "execution_count": 53,
   "metadata": {},
   "outputs": [],
   "source": [
    "def plot_decision_boundary(X, y_cat, model):\n",
    "    x_span = np.linspace(min(X[:,0]) - 0.25, max(X[:,0]) + 0.25, 50)\n",
    "    y_span = np.linspace(min(X[:,1]) - 0.25, max(X[:,1]) + 0.25, 50)\n",
    "    \n",
    "    xx, yy = np.meshgrid(x_span, y_span)\n",
    "    xx_, yy_ = xx.ravel(), yy.ravel()\n",
    "    grid = np.c_[xx_, yy_]\n",
    "    \n",
    "    # slight changes from binary classification: use model.predict_classes\n",
    "    # which is specifically for multiclass classifications\n",
    "    pred_func = model.predict_classes(grid)\n",
    "    z = pred_func.reshape(xx.shape)\n",
    "    plt.contourf(xx, yy, z)"
   ]
  },
  {
   "cell_type": "markdown",
   "metadata": {},
   "source": [
    "### Plotting the graphs\n",
    "\n",
    "we can plot graphs of multiple classes using the scikit datasets.make_blobs() which will plot a cluster of graph based on the centers of the cluster (that will be defined in the variable \"centers\" below. \n",
    "\n",
    "To add more classes to the data, we just have to define more centers."
   ]
  },
  {
   "cell_type": "code",
   "execution_count": 54,
   "metadata": {},
   "outputs": [],
   "source": [
    "n_pts = 500\n",
    "\n",
    "#define clusters for the blobs\n",
    "centers = [[-1, 1], [-1, -1], [1, -1], [1, 1], [0, 0]]\n",
    "\n",
    "# store data point to X and labels to y\n",
    "X, y = datasets.make_blobs(n_samples = n_pts, random_state = 123, centers = centers, cluster_std = 0.4)\n",
    "# when making the dataset, the multi class will initially \n",
    "# be labeled as \"0\", \"1\", and \"2\", we will then convert it to one hot encoding next."
   ]
  },
  {
   "cell_type": "code",
   "execution_count": 55,
   "metadata": {},
   "outputs": [
    {
     "data": {
      "text/plain": [
       "<matplotlib.collections.PathCollection at 0x7ff00bf58b90>"
      ]
     },
     "execution_count": 55,
     "metadata": {},
     "output_type": "execute_result"
    },
    {
     "data": {
      "image/png": "[encoded data removed]",
      "text/plain": [
       "<Figure size 432x288 with 1 Axes>"
      ]
     },
     "metadata": {
      "needs_background": "light"
     },
     "output_type": "display_data"
    }
   ],
   "source": [
    "plt.scatter(X[y == 0, 0], X[y==0, 1])\n",
    "plt.scatter(X[y == 1, 0], X[y==1, 1])\n",
    "plt.scatter(X[y == 2, 0], X[y==2, 1])\n",
    "plt.scatter(X[y == 3, 0], X[y==3, 1])\n",
    "plt.scatter(X[y == 4, 0], X[y==4, 1])"
   ]
  },
  {
   "cell_type": "markdown",
   "metadata": {},
   "source": [
    "### One hot encoding conversion:\n",
    "Converts the labeled classes that was previously 0, 1, 2 into one hot encodings, such as [0, 0, 1], [0, 1, 0] and [0, 0, 1], which corresponds respectively to 0, 1, 2 (see comparison in the output below.).\n",
    "\n",
    "The explanation above applies to only 3 classes, but more and more classes, like 5 classes would have one hot encodings such as [0, 0, 1, 0, 0], and so on.."
   ]
  },
  {
   "cell_type": "code",
   "execution_count": 56,
   "metadata": {
    "collapsed": true,
    "jupyter": {
     "outputs_hidden": true
    }
   },
   "outputs": [
    {
     "name": "stdout",
     "output_type": "stream",
     "text": [
      "[3 3 4 0 2 1 1 4 4 4 3 2 1 0 2 4 4 4 3 0 3 0 3 4 1 3 1 0 4 2 3 1 0 4 1 0 4\n",
      " 0 4 0 1 3 3 0 3 1 3 4 0 4 0 2 3 0 2 4 4 0 3 4 1 3 0 4 2 1 1 2 3 2 3 2 1 1\n",
      " 3 2 4 2 2 3 0 2 4 3 2 1 3 3 3 3 1 1 4 2 4 4 1 2 4 1 4 2 2 3 4 1 1 3 3 2 1\n",
      " 3 1 0 1 0 4 4 4 3 1 3 3 3 1 4 4 0 2 0 1 1 0 4 0 1 1 4 4 0 4 3 4 4 2 4 0 0\n",
      " 0 4 2 0 4 1 0 2 2 1 3 0 1 2 2 4 4 1 3 2 3 3 3 2 2 2 4 0 1 1 0 1 4 4 3 2 3\n",
      " 2 3 1 0 3 4 2 1 0 0 0 4 3 0 4 2 2 3 1 0 4 4 1 2 1 3 1 4 4 0 1 4 2 4 0 4 0\n",
      " 1 2 3 0 1 0 3 3 4 3 4 0 0 1 1 3 0 4 1 4 2 1 2 4 4 3 3 1 1 1 4 1 1 1 4 3 1\n",
      " 0 0 2 2 2 3 2 3 4 2 3 3 1 1 0 4 0 3 0 0 0 3 2 2 1 4 2 0 0 2 2 1 3 3 1 3 0\n",
      " 0 1 4 2 2 2 1 0 0 1 0 0 1 2 4 2 4 2 1 3 0 0 1 4 1 2 4 4 4 3 4 1 2 3 1 3 1\n",
      " 0 0 2 4 1 3 1 1 2 1 4 3 1 2 3 2 0 4 1 4 0 2 2 0 1 2 2 4 4 0 4 1 3 3 2 2 0\n",
      " 4 3 3 1 2 2 4 3 0 3 3 3 3 0 1 4 4 4 0 3 3 2 4 0 4 0 0 4 2 2 2 3 0 2 0 0 1\n",
      " 2 3 0 0 2 4 2 3 0 3 0 1 0 4 1 0 0 1 3 1 4 0 2 1 1 3 2 3 2 2 2 3 1 0 0 0 1\n",
      " 3 4 2 1 0 2 1 4 3 3 4 0 0 2 2 0 0 2 2 3 4 3 2 2 2 2 0 1 3 0 2 1 2 0 2 3 4\n",
      " 3 1 4 3 3 0 2 4 0 4 1 3 2 1 3 0 1 2 1]\n",
      "[[0. 0. 0. 1. 0.]\n",
      " [0. 0. 0. 1. 0.]\n",
      " [0. 0. 0. 0. 1.]\n",
      " ...\n",
      " [0. 1. 0. 0. 0.]\n",
      " [0. 0. 1. 0. 0.]\n",
      " [0. 1. 0. 0. 0.]]\n"
     ]
    }
   ],
   "source": [
    "y_cat = to_categorical(y, 5)\n",
    "print(y)\n",
    "print(y_cat)"
   ]
  },
  {
   "cell_type": "markdown",
   "metadata": {},
   "source": [
    "### Defining the model:\n",
    "\n",
    "We are still going to use 2 input nodes for our model, mainly the 2 features, x1 and x2.\n",
    "\n",
    "The output node will be more than 2 nodes as we now have multiple classes rather than 2 from the previous model\n",
    "\n",
    "activation will be softmax instead of sigmoid for multiclass classification\n",
    "\n",
    "loss function is now 'categorical_crossentropy' for multiclass classifciations instead pf 'binary_crossentropy' for binary classification."
   ]
  },
  {
   "cell_type": "code",
   "execution_count": 57,
   "metadata": {},
   "outputs": [],
   "source": [
    "model = Sequential()\n",
    "model.add(Dense(units = 5, input_shape = (2,), activation = 'softmax'))\n",
    "model.compile(Adam(lr = 0.1), loss = 'categorical_crossentropy',metrics = ['accuracy'])"
   ]
  },
  {
   "cell_type": "markdown",
   "metadata": {},
   "source": [
    "For multiclass classification, model.fit() will only accept one hot encoded labels."
   ]
  },
  {
   "cell_type": "code",
   "execution_count": 58,
   "metadata": {},
   "outputs": [
    {
     "name": "stdout",
     "output_type": "stream",
     "text": [
      "Epoch 1/20\n",
      "500/500 [==============================] - 0s 257us/step - loss: 1.5631 - accuracy: 0.3860\n",
      "Epoch 2/20\n",
      "500/500 [==============================] - 0s 25us/step - loss: 0.4621 - accuracy: 0.8900\n",
      "Epoch 3/20\n",
      "500/500 [==============================] - 0s 31us/step - loss: 0.2890 - accuracy: 0.9500\n",
      "Epoch 4/20\n",
      "500/500 [==============================] - 0s 22us/step - loss: 0.2410 - accuracy: 0.9480\n",
      "Epoch 5/20\n",
      "500/500 [==============================] - 0s 20us/step - loss: 0.2224 - accuracy: 0.9500\n",
      "Epoch 6/20\n",
      "500/500 [==============================] - 0s 20us/step - loss: 0.2114 - accuracy: 0.9460\n",
      "Epoch 7/20\n",
      "500/500 [==============================] - 0s 20us/step - loss: 0.2041 - accuracy: 0.9520\n",
      "Epoch 8/20\n",
      "500/500 [==============================] - 0s 21us/step - loss: 0.1997 - accuracy: 0.9500\n",
      "Epoch 9/20\n",
      "500/500 [==============================] - 0s 20us/step - loss: 0.1954 - accuracy: 0.9480\n",
      "Epoch 10/20\n",
      "500/500 [==============================] - 0s 20us/step - loss: 0.1914 - accuracy: 0.9520\n",
      "Epoch 11/20\n",
      "500/500 [==============================] - 0s 20us/step - loss: 0.1892 - accuracy: 0.9520\n",
      "Epoch 12/20\n",
      "500/500 [==============================] - 0s 19us/step - loss: 0.1862 - accuracy: 0.9480\n",
      "Epoch 13/20\n",
      "500/500 [==============================] - 0s 20us/step - loss: 0.1843 - accuracy: 0.9440\n",
      "Epoch 14/20\n",
      "500/500 [==============================] - 0s 22us/step - loss: 0.1826 - accuracy: 0.9480\n",
      "Epoch 15/20\n",
      "500/500 [==============================] - 0s 19us/step - loss: 0.1795 - accuracy: 0.9480\n",
      "Epoch 16/20\n",
      "500/500 [==============================] - 0s 22us/step - loss: 0.1788 - accuracy: 0.9460\n",
      "Epoch 17/20\n",
      "500/500 [==============================] - 0s 22us/step - loss: 0.1780 - accuracy: 0.9480\n",
      "Epoch 18/20\n",
      "500/500 [==============================] - 0s 21us/step - loss: 0.1750 - accuracy: 0.9520\n",
      "Epoch 19/20\n",
      "500/500 [==============================] - 0s 22us/step - loss: 0.1738 - accuracy: 0.9540\n",
      "Epoch 20/20\n",
      "500/500 [==============================] - 0s 23us/step - loss: 0.1717 - accuracy: 0.9520\n"
     ]
    },
    {
     "data": {
      "text/plain": [
       "<keras.callbacks.callbacks.History at 0x7ff00bf7f9d0>"
      ]
     },
     "execution_count": 58,
     "metadata": {},
     "output_type": "execute_result"
    }
   ],
   "source": [
    "model.fit(x = X, y = y_cat, verbose = 1, batch_size = 50, epochs = 20)"
   ]
  },
  {
   "cell_type": "markdown",
   "metadata": {},
   "source": [
    "### Plotting the decision boundary:"
   ]
  },
  {
   "cell_type": "code",
   "execution_count": 60,
   "metadata": {},
   "outputs": [
    {
     "name": "stdout",
     "output_type": "stream",
     "text": [
      "Prediction is:  [4]\n"
     ]
    },
    {
     "data": {
      "image/png": "[encoded data removed]",
      "text/plain": [
       "<Figure size 432x288 with 1 Axes>"
      ]
     },
     "metadata": {
      "needs_background": "light"
     },
     "output_type": "display_data"
    }
   ],
   "source": [
    "plot_decision_boundary(X, y_cat, model)\n",
    "plt.scatter(X[y == 0, 0], X[y==0, 1])\n",
    "plt.scatter(X[y == 1, 0], X[y==1, 1])\n",
    "plt.scatter(X[y == 2, 0], X[y==2, 1])\n",
    "plt.scatter(X[y == 3, 0], X[y==3, 1])\n",
    "plt.scatter(X[y == 4, 0], X[y==4, 1])\n",
    "\n",
    "x = -0.5\n",
    "y = -0.5\n",
    " \n",
    "point = np.array([[x, y]])\n",
    "prediction = model.predict_classes(point)\n",
    "plt.plot([x], [y], marker='o', markersize=10, color=\"yellow\")\n",
    "print(\"Prediction is: \", prediction)"
   ]
  },
  {
   "cell_type": "code",
   "execution_count": null,
   "metadata": {},
   "outputs": [],
   "source": []
  }
 ],
 "metadata": {
  "kernelspec": {
   "display_name": "Python 3",
   "language": "python",
   "name": "python3"
  },
  "language_info": {
   "codemirror_mode": {
    "name": "ipython",
    "version": 3
   },
   "file_extension": ".py",
   "mimetype": "text/x-python",
   "name": "python",
   "nbconvert_exporter": "python",
   "pygments_lexer": "ipython3",
   "version": "3.7.6"
  }
 },
 "nbformat": 4,
 "nbformat_minor": 4
}
