{
 "cells": [
  {
   "cell_type": "markdown",
   "metadata": {},
   "source": [
    "### Import necessary modules"
   ]
  },
  {
   "cell_type": "code",
   "execution_count": 53,
   "metadata": {},
   "outputs": [],
   "source": [
    "import numpy as np\n",
    "import keras\n",
    "from keras.models import Sequential\n",
    "from keras.layers import Dense\n",
    "from keras.optimizers import Adam\n",
    "import matplotlib.pyplot as plt\n",
    "%matplotlib inline"
   ]
  },
  {
   "cell_type": "markdown",
   "metadata": {},
   "source": [
    "### Plot decision boundary"
   ]
  },
  {
   "cell_type": "code",
   "execution_count": 54,
   "metadata": {},
   "outputs": [],
   "source": [
    "def plot_decision_boundary(X, y, model):\n",
    "    # Create 2 dimensional arrays spanning the entire horizontal and vertical range\n",
    "    # of our data.\n",
    "    x_span = np.linspace(min(X[:,0]) - 1, max(X[:,0]) + 1, 50)\n",
    "    y_span = np.linspace(min(X[:,1]) - 1, max(X[:,1]) + 1, 50)\n",
    "    \n",
    "    # meshgrid = return coordinate matrices from the input of the coordinate vectors.\n",
    "    xx, yy = np.meshgrid(x_span, y_span)\n",
    "    # meshgrid returns a 2 dimensional array, so we use ravel to make it into a\n",
    "    # one dimensional matrix.\n",
    "    xx_, yy_ = xx.ravel(), yy.ravel()\n",
    "    grid = np.c_[xx_, yy_]\n",
    "    \n",
    "    # model.predict() -> tests all the points from the grid\n",
    "    pred_func = model.predict(grid)\n",
    "    z = pred_func.reshape(xx.shape)\n",
    "    plt.contourf(xx, yy, z)"
   ]
  },
  {
   "cell_type": "markdown",
   "metadata": {},
   "source": [
    "### Adam Optimizer:\n",
    "An adaptive learning rate method algorithm. it is a combination of 2 other extensions of SGD(Stochastic Gradient Descent), notably adagrad and rmsprop. \n",
    "\n",
    "What distinguishes from the vanilla Gradient Descent is on vanilla GD, we have to careful choosing our learning rate:\n",
    "1. Learning rate too small means the model will converge too slow\n",
    "2. Learning rate too big means it would \"overfit\"\n",
    "\n",
    "Adam optimizers can adapt the learning rate as the model converges."
   ]
  },
  {
   "cell_type": "markdown",
   "metadata": {},
   "source": [
    "### Initiate random points of 2 regions."
   ]
  },
  {
   "cell_type": "code",
   "execution_count": 55,
   "metadata": {},
   "outputs": [
    {
     "name": "stdout",
     "output_type": "stream",
     "text": [
      "(1000, 1)\n",
      "(1000, 2)\n"
     ]
    },
    {
     "data": {
      "text/plain": [
       "<matplotlib.collections.PathCollection at 0x7f834275ddd0>"
      ]
     },
     "execution_count": 55,
     "metadata": {},
     "output_type": "execute_result"
    },
    {
     "data": {
      "image/png": "[encoded data removed]",
      "text/plain": [
       "<Figure size 432x288 with 1 Axes>"
      ]
     },
     "metadata": {
      "needs_background": "light"
     },
     "output_type": "display_data"
    }
   ],
   "source": [
    "n_pts = 500\n",
    "np.random.seed(0)\n",
    "Xa = np.array([np.random.normal(13, 2, n_pts),\n",
    "               np.random.normal(12, 2, n_pts)]).T\n",
    "Xb = np.array([np.random.normal(8, 2, n_pts),\n",
    "               np.random.normal(6, 2, n_pts)]).T\n",
    " \n",
    "X = np.vstack((Xa, Xb))\n",
    "# y = 0 corresponds to the top region (Xa)\n",
    "# y = 1 corresponds to the bottom region (Xb)\n",
    "y = np.matrix(np.append(np.zeros(n_pts), np.ones(n_pts))).T\n",
    "\n",
    "print(y.shape)\n",
    "print(X.shape)\n",
    "\n",
    "plt.scatter(X[:n_pts,0], X[:n_pts,1])\n",
    "plt.scatter(X[n_pts:,0], X[n_pts:,1])"
   ]
  },
  {
   "cell_type": "markdown",
   "metadata": {},
   "source": [
    "### Sequential class\n",
    "A sequential model is a linear stack of layers.\n",
    "Neural networks are organized in layers containing interconnected nodes.\n",
    "\n",
    "In the previously discussed perceptron, the first layer is actually an input layer which are the linear systems of weights and biases and the output layer is a predicted output via the activation function (sigmoid) node."
   ]
  },
  {
   "cell_type": "markdown",
   "metadata": {},
   "source": [
    "### Dense layers\n",
    "in a dense layer, every node in the layer is connected to the node in the preceding layer."
   ]
  },
  {
   "cell_type": "code",
   "execution_count": 56,
   "metadata": {},
   "outputs": [],
   "source": [
    "model = Sequential()\n",
    "# units = 1 since we'll only have one output node producing a single output.\n",
    "# input_shape = 2 since we only have 2 inputs nodes, x1 and x2\n",
    "# activation = 'sigmoid'\n",
    "model.add(Dense(units = 1, input_shape = (2,), activation = 'sigmoid'))\n",
    "\n",
    "adam = Adam(lr = 0.1)\n",
    "\n",
    "# binary_crossentropy since we're only dealing with 2 classification problrmd.\n",
    "# use categorical_crossentropy for multi class classifications.\n",
    "model.compile(adam, loss = 'binary_crossentropy', metrics=['accuracy'])"
   ]
  },
  {
   "cell_type": "markdown",
   "metadata": {},
   "source": [
    "### Start training our model using model.fit()\n",
    "\n",
    "x = X -> Training data we used\n",
    "y = y -> Labels assigned to each data points.\n",
    "verbose = progress bar of the information of the training of our model.\n",
    "\n",
    "careful choosing batch_size, not too big (note: larger batch size can result in a significant degradation in tthe quality of the model.\n",
    "batch_size = 50 with 1000 data points means it takes 20 iterations to take 1 epoch.\n",
    "\n",
    "epoch:\n",
    "- too small can result in underfiting\n",
    "- too big can result in overfitting. (not much of a big deal in smaller neural networks.)\n",
    "epochs depends on the datasets.\n",
    "\n",
    "shuffle = shuffle training data before the next epoch to prevent it getting stuck in a local minimum, instead of going to the global minimum."
   ]
  },
  {
   "cell_type": "code",
   "execution_count": 57,
   "metadata": {},
   "outputs": [
    {
     "name": "stdout",
     "output_type": "stream",
     "text": [
      "Epoch 1/100\n",
      "1000/1000 [==============================] - 0s 250us/step - loss: 2.9636 - accuracy: 0.4610\n",
      "Epoch 2/100\n",
      "1000/1000 [==============================] - 0s 22us/step - loss: 0.7392 - accuracy: 0.5740\n",
      "Epoch 3/100\n",
      "1000/1000 [==============================] - 0s 21us/step - loss: 0.4595 - accuracy: 0.8190\n",
      "Epoch 4/100\n",
      "1000/1000 [==============================] - 0s 22us/step - loss: 0.3854 - accuracy: 0.8920\n",
      "Epoch 5/100\n",
      "1000/1000 [==============================] - 0s 21us/step - loss: 0.3427 - accuracy: 0.9000\n",
      "Epoch 6/100\n",
      "1000/1000 [==============================] - 0s 22us/step - loss: 0.3121 - accuracy: 0.9220\n",
      "Epoch 7/100\n",
      "1000/1000 [==============================] - 0s 21us/step - loss: 0.2957 - accuracy: 0.9330\n",
      "Epoch 8/100\n",
      "1000/1000 [==============================] - 0s 21us/step - loss: 0.2695 - accuracy: 0.9470\n",
      "Epoch 9/100\n",
      "1000/1000 [==============================] - 0s 22us/step - loss: 0.2488 - accuracy: 0.9490\n",
      "Epoch 10/100\n",
      "1000/1000 [==============================] - 0s 23us/step - loss: 0.2349 - accuracy: 0.9590\n",
      "Epoch 11/100\n",
      "1000/1000 [==============================] - 0s 21us/step - loss: 0.2235 - accuracy: 0.9510\n",
      "Epoch 12/100\n",
      "1000/1000 [==============================] - 0s 22us/step - loss: 0.2138 - accuracy: 0.9580\n",
      "Epoch 13/100\n",
      "1000/1000 [==============================] - 0s 22us/step - loss: 0.2042 - accuracy: 0.9640\n",
      "Epoch 14/100\n",
      "1000/1000 [==============================] - 0s 22us/step - loss: 0.1963 - accuracy: 0.9620\n",
      "Epoch 15/100\n",
      "1000/1000 [==============================] - 0s 21us/step - loss: 0.1887 - accuracy: 0.9630\n",
      "Epoch 16/100\n",
      "1000/1000 [==============================] - 0s 21us/step - loss: 0.1826 - accuracy: 0.9640\n",
      "Epoch 17/100\n",
      "1000/1000 [==============================] - 0s 23us/step - loss: 0.1753 - accuracy: 0.9690\n",
      "Epoch 18/100\n",
      "1000/1000 [==============================] - 0s 22us/step - loss: 0.1710 - accuracy: 0.9680\n",
      "Epoch 19/100\n",
      "1000/1000 [==============================] - 0s 22us/step - loss: 0.1652 - accuracy: 0.9700\n",
      "Epoch 20/100\n",
      "1000/1000 [==============================] - 0s 23us/step - loss: 0.1628 - accuracy: 0.9690\n",
      "Epoch 21/100\n",
      "1000/1000 [==============================] - 0s 22us/step - loss: 0.1582 - accuracy: 0.9720\n",
      "Epoch 22/100\n",
      "1000/1000 [==============================] - 0s 21us/step - loss: 0.1523 - accuracy: 0.9750\n",
      "Epoch 23/100\n",
      "1000/1000 [==============================] - 0s 23us/step - loss: 0.1535 - accuracy: 0.9670\n",
      "Epoch 24/100\n",
      "1000/1000 [==============================] - 0s 23us/step - loss: 0.1466 - accuracy: 0.9740\n",
      "Epoch 25/100\n",
      "1000/1000 [==============================] - 0s 23us/step - loss: 0.1443 - accuracy: 0.9730\n",
      "Epoch 26/100\n",
      "1000/1000 [==============================] - 0s 22us/step - loss: 0.1401 - accuracy: 0.9710\n",
      "Epoch 27/100\n",
      "1000/1000 [==============================] - 0s 22us/step - loss: 0.1379 - accuracy: 0.9710\n",
      "Epoch 28/100\n",
      "1000/1000 [==============================] - 0s 21us/step - loss: 0.1358 - accuracy: 0.9740\n",
      "Epoch 29/100\n",
      "1000/1000 [==============================] - 0s 23us/step - loss: 0.1329 - accuracy: 0.9750\n",
      "Epoch 30/100\n",
      "1000/1000 [==============================] - 0s 22us/step - loss: 0.1314 - accuracy: 0.9740\n",
      "Epoch 31/100\n",
      "1000/1000 [==============================] - 0s 22us/step - loss: 0.1305 - accuracy: 0.9700\n",
      "Epoch 32/100\n",
      "1000/1000 [==============================] - 0s 22us/step - loss: 0.1269 - accuracy: 0.9770\n",
      "Epoch 33/100\n",
      "1000/1000 [==============================] - 0s 21us/step - loss: 0.1238 - accuracy: 0.9770\n",
      "Epoch 34/100\n",
      "1000/1000 [==============================] - 0s 21us/step - loss: 0.1220 - accuracy: 0.9770\n",
      "Epoch 35/100\n",
      "1000/1000 [==============================] - 0s 25us/step - loss: 0.1208 - accuracy: 0.9770\n",
      "Epoch 36/100\n",
      "1000/1000 [==============================] - 0s 23us/step - loss: 0.1190 - accuracy: 0.9770\n",
      "Epoch 37/100\n",
      "1000/1000 [==============================] - 0s 26us/step - loss: 0.1182 - accuracy: 0.9780\n",
      "Epoch 38/100\n",
      "1000/1000 [==============================] - 0s 22us/step - loss: 0.1172 - accuracy: 0.9740\n",
      "Epoch 39/100\n",
      "1000/1000 [==============================] - 0s 24us/step - loss: 0.1174 - accuracy: 0.9720\n",
      "Epoch 40/100\n",
      "1000/1000 [==============================] - 0s 22us/step - loss: 0.1147 - accuracy: 0.9770\n",
      "Epoch 41/100\n",
      "1000/1000 [==============================] - 0s 23us/step - loss: 0.1141 - accuracy: 0.9760\n",
      "Epoch 42/100\n",
      "1000/1000 [==============================] - 0s 22us/step - loss: 0.1111 - accuracy: 0.9750\n",
      "Epoch 43/100\n",
      "1000/1000 [==============================] - 0s 22us/step - loss: 0.1095 - accuracy: 0.9780\n",
      "Epoch 44/100\n",
      "1000/1000 [==============================] - 0s 21us/step - loss: 0.1097 - accuracy: 0.9770\n",
      "Epoch 45/100\n",
      "1000/1000 [==============================] - 0s 21us/step - loss: 0.1075 - accuracy: 0.9780\n",
      "Epoch 46/100\n",
      "1000/1000 [==============================] - 0s 22us/step - loss: 0.1087 - accuracy: 0.9730\n",
      "Epoch 47/100\n",
      "1000/1000 [==============================] - 0s 22us/step - loss: 0.1049 - accuracy: 0.9770\n",
      "Epoch 48/100\n",
      "1000/1000 [==============================] - 0s 21us/step - loss: 0.1041 - accuracy: 0.9780\n",
      "Epoch 49/100\n",
      "1000/1000 [==============================] - 0s 23us/step - loss: 0.1033 - accuracy: 0.9760\n",
      "Epoch 50/100\n",
      "1000/1000 [==============================] - 0s 21us/step - loss: 0.1032 - accuracy: 0.9770\n",
      "Epoch 51/100\n",
      "1000/1000 [==============================] - 0s 22us/step - loss: 0.1016 - accuracy: 0.9790\n",
      "Epoch 52/100\n",
      "1000/1000 [==============================] - 0s 22us/step - loss: 0.1009 - accuracy: 0.9760\n",
      "Epoch 53/100\n",
      "1000/1000 [==============================] - 0s 21us/step - loss: 0.0989 - accuracy: 0.9770\n",
      "Epoch 54/100\n",
      "1000/1000 [==============================] - 0s 22us/step - loss: 0.0989 - accuracy: 0.9780\n",
      "Epoch 55/100\n",
      "1000/1000 [==============================] - 0s 22us/step - loss: 0.1000 - accuracy: 0.9770\n",
      "Epoch 56/100\n",
      "1000/1000 [==============================] - 0s 24us/step - loss: 0.0986 - accuracy: 0.9780\n",
      "Epoch 57/100\n",
      "1000/1000 [==============================] - 0s 22us/step - loss: 0.0972 - accuracy: 0.9770\n",
      "Epoch 58/100\n",
      "1000/1000 [==============================] - 0s 22us/step - loss: 0.0959 - accuracy: 0.9770\n",
      "Epoch 59/100\n",
      "1000/1000 [==============================] - 0s 23us/step - loss: 0.0993 - accuracy: 0.9740\n",
      "Epoch 60/100\n",
      "1000/1000 [==============================] - 0s 23us/step - loss: 0.0971 - accuracy: 0.9730\n",
      "Epoch 61/100\n",
      "1000/1000 [==============================] - 0s 25us/step - loss: 0.0948 - accuracy: 0.9800\n",
      "Epoch 62/100\n",
      "1000/1000 [==============================] - 0s 23us/step - loss: 0.0928 - accuracy: 0.9770\n",
      "Epoch 63/100\n",
      "1000/1000 [==============================] - 0s 22us/step - loss: 0.0916 - accuracy: 0.9800\n",
      "Epoch 64/100\n",
      "1000/1000 [==============================] - 0s 21us/step - loss: 0.0942 - accuracy: 0.9750\n",
      "Epoch 65/100\n",
      "1000/1000 [==============================] - 0s 21us/step - loss: 0.0930 - accuracy: 0.9750\n",
      "Epoch 66/100\n",
      "1000/1000 [==============================] - 0s 23us/step - loss: 0.0904 - accuracy: 0.9790\n",
      "Epoch 67/100\n",
      "1000/1000 [==============================] - 0s 22us/step - loss: 0.0903 - accuracy: 0.9780\n",
      "Epoch 68/100\n",
      "1000/1000 [==============================] - 0s 23us/step - loss: 0.0901 - accuracy: 0.9790\n",
      "Epoch 69/100\n",
      "1000/1000 [==============================] - 0s 22us/step - loss: 0.0888 - accuracy: 0.9790\n",
      "Epoch 70/100\n",
      "1000/1000 [==============================] - 0s 23us/step - loss: 0.0919 - accuracy: 0.9760\n",
      "Epoch 71/100\n",
      "1000/1000 [==============================] - 0s 23us/step - loss: 0.0882 - accuracy: 0.9780\n",
      "Epoch 72/100\n",
      "1000/1000 [==============================] - 0s 23us/step - loss: 0.0875 - accuracy: 0.9770\n",
      "Epoch 73/100\n",
      "1000/1000 [==============================] - 0s 24us/step - loss: 0.0897 - accuracy: 0.9770\n",
      "Epoch 74/100\n",
      "1000/1000 [==============================] - 0s 23us/step - loss: 0.0896 - accuracy: 0.9740\n",
      "Epoch 75/100\n",
      "1000/1000 [==============================] - 0s 24us/step - loss: 0.0860 - accuracy: 0.9780\n",
      "Epoch 76/100\n",
      "1000/1000 [==============================] - 0s 23us/step - loss: 0.0863 - accuracy: 0.9770\n",
      "Epoch 77/100\n",
      "1000/1000 [==============================] - 0s 24us/step - loss: 0.0855 - accuracy: 0.9770\n",
      "Epoch 78/100\n",
      "1000/1000 [==============================] - 0s 22us/step - loss: 0.0865 - accuracy: 0.9760\n",
      "Epoch 79/100\n",
      "1000/1000 [==============================] - 0s 23us/step - loss: 0.0845 - accuracy: 0.9770\n",
      "Epoch 80/100\n",
      "1000/1000 [==============================] - 0s 21us/step - loss: 0.0866 - accuracy: 0.9750\n",
      "Epoch 81/100\n",
      "1000/1000 [==============================] - 0s 21us/step - loss: 0.0836 - accuracy: 0.9790\n",
      "Epoch 82/100\n",
      "1000/1000 [==============================] - 0s 22us/step - loss: 0.0834 - accuracy: 0.9770\n",
      "Epoch 83/100\n",
      "1000/1000 [==============================] - 0s 22us/step - loss: 0.0829 - accuracy: 0.9770\n",
      "Epoch 84/100\n",
      "1000/1000 [==============================] - 0s 23us/step - loss: 0.0836 - accuracy: 0.9760\n",
      "Epoch 85/100\n",
      "1000/1000 [==============================] - 0s 24us/step - loss: 0.0848 - accuracy: 0.9760\n",
      "Epoch 86/100\n",
      "1000/1000 [==============================] - 0s 24us/step - loss: 0.0813 - accuracy: 0.9780\n",
      "Epoch 87/100\n",
      "1000/1000 [==============================] - 0s 24us/step - loss: 0.0809 - accuracy: 0.9790\n",
      "Epoch 88/100\n",
      "1000/1000 [==============================] - 0s 23us/step - loss: 0.0817 - accuracy: 0.9760\n",
      "Epoch 89/100\n",
      "1000/1000 [==============================] - 0s 22us/step - loss: 0.0824 - accuracy: 0.9760\n",
      "Epoch 90/100\n",
      "1000/1000 [==============================] - 0s 22us/step - loss: 0.0807 - accuracy: 0.9770\n",
      "Epoch 91/100\n",
      "1000/1000 [==============================] - 0s 24us/step - loss: 0.0830 - accuracy: 0.9760\n",
      "Epoch 92/100\n",
      "1000/1000 [==============================] - 0s 24us/step - loss: 0.0800 - accuracy: 0.9750\n",
      "Epoch 93/100\n",
      "1000/1000 [==============================] - 0s 23us/step - loss: 0.0799 - accuracy: 0.9770\n",
      "Epoch 94/100\n",
      "1000/1000 [==============================] - 0s 24us/step - loss: 0.0800 - accuracy: 0.9780\n",
      "Epoch 95/100\n",
      "1000/1000 [==============================] - 0s 24us/step - loss: 0.0823 - accuracy: 0.9750\n",
      "Epoch 96/100\n",
      "1000/1000 [==============================] - 0s 24us/step - loss: 0.0784 - accuracy: 0.9750\n",
      "Epoch 97/100\n",
      "1000/1000 [==============================] - 0s 22us/step - loss: 0.0811 - accuracy: 0.9760\n",
      "Epoch 98/100\n",
      "1000/1000 [==============================] - 0s 22us/step - loss: 0.0809 - accuracy: 0.9750\n",
      "Epoch 99/100\n",
      "1000/1000 [==============================] - 0s 23us/step - loss: 0.0789 - accuracy: 0.9770\n",
      "Epoch 100/100\n",
      "1000/1000 [==============================] - 0s 23us/step - loss: 0.0784 - accuracy: 0.9790\n"
     ]
    }
   ],
   "source": [
    "h = model.fit(x = X, y = y, verbose = 1, batch_size = 50, epochs = 100, shuffle = 'true')"
   ]
  },
  {
   "cell_type": "markdown",
   "metadata": {},
   "source": [
    "### Plot the Accuracy and Losses"
   ]
  },
  {
   "cell_type": "code",
   "execution_count": 58,
   "metadata": {},
   "outputs": [
    {
     "data": {
      "text/plain": [
       "<matplotlib.legend.Legend at 0x7f83444cdf50>"
      ]
     },
     "execution_count": 58,
     "metadata": {},
     "output_type": "execute_result"
    },
    {
     "data": {
      "image/png": "[encoded data removed]",
      "text/plain": [
       "<Figure size 576x432 with 1 Axes>"
      ]
     },
     "metadata": {
      "needs_background": "light"
     },
     "output_type": "display_data"
    }
   ],
   "source": [
    "plt.figure(figsize = (8,6))\n",
    "plt.plot(h.history['accuracy'])\n",
    "plt.title('Accuracy')\n",
    "plt.xlabel('epochs')\n",
    "plt.legend(['Accuracy'])"
   ]
  },
  {
   "cell_type": "code",
   "execution_count": 59,
   "metadata": {},
   "outputs": [
    {
     "data": {
      "text/plain": [
       "<matplotlib.legend.Legend at 0x7f8344725a50>"
      ]
     },
     "execution_count": 59,
     "metadata": {},
     "output_type": "execute_result"
    },
    {
     "data": {
      "image/png": "[encoded data removed]",
      "text/plain": [
       "<Figure size 576x432 with 1 Axes>"
      ]
     },
     "metadata": {
      "needs_background": "light"
     },
     "output_type": "display_data"
    }
   ],
   "source": [
    "plt.figure(figsize = (8,6))\n",
    "plt.plot(h.history['loss'])\n",
    "plt.title('Loss')\n",
    "plt.xlabel('epochs')\n",
    "plt.legend(['Loss'])"
   ]
  },
  {
   "cell_type": "code",
   "execution_count": 61,
   "metadata": {},
   "outputs": [
    {
     "data": {
      "text/plain": [
       "<matplotlib.collections.PathCollection at 0x7f834599cc10>"
      ]
     },
     "execution_count": 61,
     "metadata": {},
     "output_type": "execute_result"
    },
    {
     "data": {
      "image/png": "[encoded data removed]",
      "text/plain": [
       "<Figure size 432x288 with 1 Axes>"
      ]
     },
     "metadata": {
      "needs_background": "light"
     },
     "output_type": "display_data"
    }
   ],
   "source": [
    "plot_decision_boundary(X, y, model)\n",
    "plt.scatter(X[:n_pts,0], X[:n_pts,1])\n",
    "plt.scatter(X[n_pts:,0], X[n_pts:,1])\n",
    "# x = 7.5\n",
    "# y = 5\n",
    " \n",
    " \n",
    "# point = np.array([[x, y]])\n",
    "# prediction = model.predict(point)\n",
    "# plt.plot([x], [y], marker='o', markersize=10, color=\"red\")\n",
    "# print(\"prediction is: \",prediction)"
   ]
  },
  {
   "cell_type": "code",
   "execution_count": null,
   "metadata": {},
   "outputs": [],
   "source": []
  }
 ],
 "metadata": {
  "kernelspec": {
   "display_name": "Python 3",
   "language": "python",
   "name": "python3"
  },
  "language_info": {
   "codemirror_mode": {
    "name": "ipython",
    "version": 3
   },
   "file_extension": ".py",
   "mimetype": "text/x-python",
   "name": "python",
   "nbconvert_exporter": "python",
   "pygments_lexer": "ipython3",
   "version": "3.7.6"
  }
 },
 "nbformat": 4,
 "nbformat_minor": 4
}
